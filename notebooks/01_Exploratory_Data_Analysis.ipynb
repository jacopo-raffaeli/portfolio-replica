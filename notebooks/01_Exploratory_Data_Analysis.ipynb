{
  "nbformat": 4,
  "nbformat_minor": 0,
  "metadata": {
    "colab": {
      "provenance": [],
      "authorship_tag": "ABX9TyPCz2ste4Hzl6Ey09QmBoR/"
    },
    "kernelspec": {
      "name": "python3",
      "display_name": "Python 3"
    },
    "language_info": {
      "name": "python"
    }
  },
  "cells": [
    {
      "cell_type": "markdown",
      "source": [
        "# GENERAL TITLE\n",
        "\n",
        "## Short description of the notebook"
      ],
      "metadata": {
        "id": "IofWeS66Gejk"
      }
    },
    {
      "cell_type": "markdown",
      "source": [
        "# General Setup"
      ],
      "metadata": {
        "id": "GakLOwrRHh29"
      }
    },
    {
      "cell_type": "code",
      "execution_count": 1,
      "metadata": {
        "id": "FuWiaKoGG3vm",
        "collapsed": true
      },
      "outputs": [],
      "source": [
        "%%bash\n",
        "REPO=https://github.com/jacopo-raffaeli/portfolio-replica.git\n",
        "DIR=portfolio-replica\n",
        "\n",
        "# Clone if needed, else pull latest\n",
        "if [ ! -d \"$DIR\" ]; then\n",
        "  git clone $REPO > /dev/null 2>&1\n",
        "else\n",
        "  cd $DIR\n",
        "  git pull origin main > /dev/null 2>&1\n",
        "  cd ..\n",
        "fi\n",
        "\n",
        "# Enter project root and install dependencies\n",
        "cd $DIR\n",
        "pip install -r requirements.txt > /dev/null 2>&1\n"
      ]
    },
    {
      "cell_type": "code",
      "source": [
        "# Standard library\n",
        "import os\n",
        "import sys\n",
        "import warnings\n",
        "import random\n",
        "import logging\n",
        "\n",
        "# Core scientific stack\n",
        "import numpy as np\n",
        "import pandas as pd\n",
        "import matplotlib.pyplot as plt\n",
        "import seaborn as sns\n"
      ],
      "metadata": {
        "id": "EzPX8Gdja4DB"
      },
      "execution_count": 2,
      "outputs": []
    },
    {
      "cell_type": "code",
      "source": [
        "# Add repo root to sys.path for imports\n",
        "PROJECT_ROOT = \"/content/portfolio-replica\"\n",
        "if PROJECT_ROOT not in sys.path:\n",
        "    sys.path.append(PROJECT_ROOT)\n",
        "    sys.path.append(os.path.join(PROJECT_ROOT, 'src'))\n",
        "\n",
        "# Set working directory for relative paths\n",
        "os.chdir(PROJECT_ROOT)\n",
        "print(f\"Current working directory: {os.getcwd()}\")"
      ],
      "metadata": {
        "colab": {
          "base_uri": "https://localhost:8080/"
        },
        "id": "ypms8AzYXuZ6",
        "outputId": "3cd8f5a7-aaba-4379-bd15-d6a6ed5d134c"
      },
      "execution_count": 3,
      "outputs": [
        {
          "output_type": "stream",
          "name": "stdout",
          "text": [
            "Current working directory: /content/portfolio-replica\n"
          ]
        }
      ]
    },
    {
      "cell_type": "code",
      "source": [
        "# Suppress warnings\n",
        "warnings.filterwarnings('ignore')\n",
        "\n",
        "# Pandas display options\n",
        "pd.set_option('display.max_columns', 100)\n",
        "pd.set_option('display.precision', 3)\n",
        "\n",
        "# Seaborn and Matplotlib display options\n",
        "sns.set(style='whitegrid')\n",
        "plt.rcParams['figure.figsize'] = (10, 6)\n",
        "plt.rcParams['axes.titlesize'] = 14\n",
        "plt.rcParams['axes.labelsize'] = 12\n",
        "\n",
        "# Set reproducible seeds\n",
        "random.seed(42)\n",
        "np.random.seed(42)\n",
        "\n",
        "# Configure logging\n",
        "logging.basicConfig(\n",
        "    level=logging.INFO,\n",
        "    format='%(asctime)s %(levelname)s %(message)s',\n",
        "    datefmt='%H:%M:%S'\n",
        ")"
      ],
      "metadata": {
        "id": "UkcNz5M4ZK8y"
      },
      "execution_count": 4,
      "outputs": []
    },
    {
      "cell_type": "markdown",
      "source": [
        "# Load Dataset"
      ],
      "metadata": {
        "id": "DCj_pgaBdBzU"
      }
    },
    {
      "cell_type": "code",
      "source": [
        "DATA_PATH = PROJECT_ROOT + \"/data\"\n",
        "\n",
        "# Read the dataset\n",
        "raw_df = pd.read_excel(DATA_PATH + \"/raw/raw_dataset.xlsx\")\n",
        "\n",
        "# Print preliminary information about the dataset\n",
        "print(\"Shape: \", raw_df.shape)\n",
        "print(raw_df.head())"
      ],
      "metadata": {
        "colab": {
          "base_uri": "https://localhost:8080/"
        },
        "id": "4DmBiIJudFxH",
        "outputId": "f0b02058-6d62-4bdf-df38-76a50e901294"
      },
      "execution_count": 12,
      "outputs": [
        {
          "output_type": "stream",
          "name": "stdout",
          "text": [
            "Shape:  (705, 16)\n",
            "      Ticker     MXWO    MXWD  LEGATRUU   HFRXGL     RX1      TY1    GC1  \\\n",
            "0 2007-10-23  1633.44  414.14   350.214  1343.63  113.70  110.516  759.0   \n",
            "1 2007-10-30  1663.89  423.26   352.541  1356.53  113.79  110.656  787.8   \n",
            "2 2007-11-06  1651.59  419.51   354.176  1360.20  113.79  110.875  823.4   \n",
            "3 2007-11-13  1601.81  405.98   357.222  1347.16  114.35  111.719  799.0   \n",
            "4 2007-11-20  1570.74  398.54   359.445  1335.21  114.72  113.156  791.4   \n",
            "\n",
            "     CO1      ES1     VG1      NQ1    LLL1     TP1      DU1      TU2  \n",
            "0  82.85  1525.50  4393.0  2212.00  1287.0  1570.5  103.385  103.719  \n",
            "1  87.44  1536.00  4476.0  2217.75  1323.9  1610.5  103.410  103.812  \n",
            "2  93.26  1525.00  4425.0  2233.50  1320.0  1575.5  103.410  104.047  \n",
            "3  88.83  1483.25  4323.0  2066.75  1271.0  1440.5  103.595  104.305  \n",
            "4  95.49  1446.00  4296.0  2035.50  1225.2  1472.5  103.800  104.945  \n"
          ]
        }
      ]
    },
    {
      "cell_type": "code",
      "source": [
        "# Read full names (row 4)\n",
        "full_names_df = pd.read_excel(folder_path + 'Dataset3_PortfolioReplicaStrategy.xlsx', header=None, skiprows=3, nrows=1)\n",
        "full_names = full_names_df.iloc[0].tolist()[1:]\n",
        "\n",
        "# Read Bloomberg tickers (row 6)\n",
        "tickers_df = pd.read_excel(folder_path + 'Dataset3_PortfolioReplicaStrategy.xlsx', header=None, skiprows=5, nrows=1)\n",
        "tickers = tickers_df.iloc[0].tolist()[1:]\n",
        "\n",
        "if corrige:\n",
        "    file_path = folder_path + 'Dataset3_PortfolioReplicaStrategyErrataCorrige.xlsx'\n",
        "    # Read the actual data without using any row as a header\n",
        "    data_raw = pd.read_excel(file_path, header=None, skiprows=1)\n",
        "\n",
        "else:\n",
        "    file_path = folder_path + 'Dataset3_PortfolioReplicaStrategy.xlsx'\n",
        "    # Read the actual data without using any row as a header\n",
        "    data_raw = pd.read_excel(file_path, header=None, skiprows=6)\n",
        "\n",
        "# Create a dictionary mapping tickers to full names\n",
        "variable_info = dict(zip(tickers, full_names))\n",
        "\n",
        "# First column is the date column\n",
        "data_raw.columns = ['Date'] + tickers\n",
        "\n",
        "# Set the date column as the index and ensure it's in datetime format\n",
        "data_raw['Date'] = pd.to_datetime(data_raw['Date'], format='%d/%m/%Y')\n",
        "data = data_raw.set_index('Date')"
      ],
      "metadata": {
        "id": "68ZRfSOsHWsk"
      },
      "execution_count": null,
      "outputs": []
    }
  ]
}