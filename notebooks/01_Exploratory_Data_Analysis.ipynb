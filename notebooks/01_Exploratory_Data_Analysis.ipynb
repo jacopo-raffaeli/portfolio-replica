{
  "nbformat": 4,
  "nbformat_minor": 0,
  "metadata": {
    "colab": {
      "provenance": [],
      "authorship_tag": "ABX9TyNsXg6DahqZ8jjYLJAdZKNN"
    },
    "kernelspec": {
      "name": "python3",
      "display_name": "Python 3"
    },
    "language_info": {
      "name": "python"
    }
  },
  "cells": [
    {
      "cell_type": "markdown",
      "source": [
        "# GENERAL TITLE\n",
        "\n",
        "## Short description of the notebook"
      ],
      "metadata": {
        "id": "IofWeS66Gejk"
      }
    },
    {
      "cell_type": "markdown",
      "source": [
        "# General Setup"
      ],
      "metadata": {
        "id": "GakLOwrRHh29"
      }
    },
    {
      "cell_type": "code",
      "execution_count": 11,
      "metadata": {
        "id": "FuWiaKoGG3vm",
        "collapsed": true
      },
      "outputs": [],
      "source": [
        "%%bash\n",
        "REPO=https://github.com/jacopo-raffaeli/portfolio-replica.git\n",
        "DIR=portfolio-replica\n",
        "\n",
        "# Clone if needed, else pull latest\n",
        "if [ ! -d \"$DIR\" ]; then\n",
        "  git clone $REPO > /dev/null 2>&1\n",
        "else\n",
        "  cd $DIR\n",
        "  git pull origin main > /dev/null 2>&1\n",
        "  cd ..\n",
        "fi\n",
        "\n",
        "# Enter project root and install dependencies\n",
        "cd $DIR\n",
        "pip install -r requirements.txt > /dev/null 2>&1\n"
      ]
    },
    {
      "cell_type": "code",
      "source": [
        "# Standard library\n",
        "import os\n",
        "import sys\n",
        "import warnings\n",
        "import random\n",
        "import logging\n",
        "\n",
        "# Core scientific stack\n",
        "import numpy as np\n",
        "import pandas as pd\n",
        "import matplotlib.pyplot as plt\n",
        "import seaborn as sns\n"
      ],
      "metadata": {
        "id": "EzPX8Gdja4DB"
      },
      "execution_count": 12,
      "outputs": []
    },
    {
      "cell_type": "code",
      "source": [
        "# Add repo root to sys.path for imports\n",
        "PROJECT_ROOT = \"/content/portfolio-replica\"\n",
        "if PROJECT_ROOT not in sys.path:\n",
        "    sys.path.append(PROJECT_ROOT)\n",
        "    sys.path.append(os.path.join(PROJECT_ROOT, 'src'))\n",
        "\n",
        "# Set working directory for relative paths\n",
        "os.chdir(PROJECT_ROOT)\n",
        "print(f\"Current working directory: {os.getcwd()}\")"
      ],
      "metadata": {
        "id": "ypms8AzYXuZ6",
        "outputId": "06e286a0-bb38-4441-f4ab-ac11477f1b31",
        "colab": {
          "base_uri": "https://localhost:8080/"
        }
      },
      "execution_count": 13,
      "outputs": [
        {
          "output_type": "stream",
          "name": "stdout",
          "text": [
            "Current working directory: /content/portfolio-replica\n"
          ]
        }
      ]
    },
    {
      "cell_type": "code",
      "source": [
        "# Suppress warnings\n",
        "warnings.filterwarnings('ignore')\n",
        "\n",
        "# Pandas display options\n",
        "pd.set_option('display.max_columns', 100)\n",
        "pd.set_option('display.precision', 3)\n",
        "\n",
        "# Seaborn and Matplotlib display options\n",
        "sns.set(style='whitegrid')\n",
        "plt.rcParams['figure.figsize'] = (10, 6)\n",
        "plt.rcParams['axes.titlesize'] = 14\n",
        "plt.rcParams['axes.labelsize'] = 12\n",
        "\n",
        "# Set reproducible seeds\n",
        "random.seed(42)\n",
        "np.random.seed(42)\n",
        "\n",
        "# Configure logging\n",
        "logging.basicConfig(\n",
        "    level=logging.INFO,\n",
        "    format='%(asctime)s %(levelname)s %(message)s',\n",
        "    datefmt='%H:%M:%S'\n",
        ")"
      ],
      "metadata": {
        "id": "UkcNz5M4ZK8y"
      },
      "execution_count": 14,
      "outputs": []
    },
    {
      "cell_type": "markdown",
      "source": [
        "# Upload Dataset"
      ],
      "metadata": {
        "id": "DCj_pgaBdBzU"
      }
    },
    {
      "cell_type": "code",
      "source": [],
      "metadata": {
        "id": "4DmBiIJudFxH"
      },
      "execution_count": null,
      "outputs": []
    }
  ]
}