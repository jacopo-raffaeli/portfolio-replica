{
  "nbformat": 4,
  "nbformat_minor": 0,
  "metadata": {
    "colab": {
      "provenance": [],
      "toc_visible": true,
      "authorship_tag": "ABX9TyNqEf10Rs72qXJH/Z6FLox8"
    },
    "kernelspec": {
      "name": "python3",
      "display_name": "Python 3"
    },
    "language_info": {
      "name": "python"
    }
  },
  "cells": [
    {
      "cell_type": "markdown",
      "source": [
        "# GENERAL TITLE\n",
        "\n",
        "## Short description of the notebook"
      ],
      "metadata": {
        "id": "IofWeS66Gejk"
      }
    },
    {
      "cell_type": "markdown",
      "source": [
        "# General Setup"
      ],
      "metadata": {
        "id": "GakLOwrRHh29"
      }
    },
    {
      "cell_type": "markdown",
      "source": [
        "## Clone Repository & Install Dependencies\n",
        "\n"
      ],
      "metadata": {
        "id": "q60YjoOAHlNJ"
      }
    },
    {
      "cell_type": "code",
      "execution_count": null,
      "metadata": {
        "id": "FuWiaKoGG3vm",
        "collapsed": true
      },
      "outputs": [],
      "source": [
        "%%shell\n",
        "REPO=https://github.com/jacopo-raffaeli/portfolio-replica.git\n",
        "DIR=portfolio-replica\n",
        "\n",
        "# Clone if needed, else pull latest\n",
        "if [ ! -d \"$DIR\" ]; then\n",
        "  git clone $REPO\n",
        "else\n",
        "  cd $DIR\n",
        "  git pull origin main\n",
        "  cd ..\n",
        "fi\n",
        "\n",
        "# Enter project root\n",
        "cd $DIR\n",
        "\n",
        "# Install all dependencies\n",
        "pip install -r requirements.txt\n"
      ]
    }
  ]
}