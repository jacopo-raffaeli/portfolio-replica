{
  "nbformat": 4,
  "nbformat_minor": 0,
  "metadata": {
    "colab": {
      "provenance": [],
      "authorship_tag": "ABX9TyOAzPfze7cjRLJeSX8cgYwr"
    },
    "kernelspec": {
      "name": "python3",
      "display_name": "Python 3"
    },
    "language_info": {
      "name": "python"
    }
  },
  "cells": [
    {
      "cell_type": "markdown",
      "source": [
        "# Notebook 01: Exploratory Data Analysis\n",
        "\n",
        "## Short description of the notebook"
      ],
      "metadata": {
        "id": "IofWeS66Gejk"
      }
    },
    {
      "cell_type": "markdown",
      "source": [
        "# NOTES\n",
        "What we have done:\n",
        "\n",
        "- Preliminary data inspection\n",
        "\n",
        "- Add missing data to LLL1\n",
        "  - Several classic methods tried with low accuracy\n",
        "  - Imputation with Iterative imputer is good\n",
        "  - Cannot find anything like LLL1 to extract the real missing data"
      ],
      "metadata": {
        "id": "GuZKA1hXwslv"
      }
    },
    {
      "cell_type": "markdown",
      "source": [
        "# Dependencies"
      ],
      "metadata": {
        "id": "flR6Oc9bQzIC"
      }
    },
    {
      "cell_type": "code",
      "source": [
        "# Standard library\n",
        "import os\n",
        "import sys\n",
        "import warnings\n",
        "import random\n",
        "import logging\n",
        "import pickle\n",
        "\n",
        "# Core scientific stack\n",
        "import numpy as np\n",
        "import pandas as pd\n",
        "import matplotlib.pyplot as plt\n",
        "import seaborn as sns\n",
        "\n",
        "# Others\n",
        "from sklearn.linear_model import BayesianRidge\n",
        "from sklearn.experimental import enable_iterative_imputer\n",
        "from sklearn.impute import IterativeImputer\n",
        "from typing import List, Optional, Union\n"
      ],
      "metadata": {
        "id": "EzPX8Gdja4DB"
      },
      "execution_count": 5,
      "outputs": []
    },
    {
      "cell_type": "markdown",
      "source": [
        "# General Setup"
      ],
      "metadata": {
        "id": "GakLOwrRHh29"
      }
    },
    {
      "cell_type": "code",
      "execution_count": 6,
      "metadata": {
        "id": "FuWiaKoGG3vm",
        "collapsed": true
      },
      "outputs": [],
      "source": [
        "%%bash\n",
        "cd /content\n",
        "\n",
        "REPO=https://github.com/jacopo-raffaeli/portfolio-replica.git\n",
        "DIR=portfolio-replica\n",
        "\n",
        "# Clone if needed, else pull latest\n",
        "if [ ! -d \"$DIR\" ]; then\n",
        "  git clone $REPO > /dev/null 2>&1\n",
        "else\n",
        "  cd $DIR\n",
        "  git pull origin main > /dev/null 2>&1\n",
        "  cd ..\n",
        "fi\n",
        "\n",
        "# Enter project root and install dependencies\n",
        "cd $DIR\n",
        "pip install -r requirements.txt > /dev/null 2>&1\n"
      ]
    },
    {
      "cell_type": "code",
      "source": [
        "# Add repo root to sys.path for imports\n",
        "PROJECT_ROOT = \"/content/portfolio-replica\"\n",
        "if PROJECT_ROOT not in sys.path:\n",
        "    sys.path.append(PROJECT_ROOT)\n",
        "    sys.path.append(os.path.join(PROJECT_ROOT, 'src'))\n",
        "\n",
        "# Set working directory for relative paths\n",
        "os.chdir(PROJECT_ROOT)\n",
        "print(f\"Current working directory: {os.getcwd()}\")"
      ],
      "metadata": {
        "colab": {
          "base_uri": "https://localhost:8080/"
        },
        "id": "ypms8AzYXuZ6",
        "outputId": "79b20dbf-0eb7-4376-91b1-6e3c894cd0ea"
      },
      "execution_count": 7,
      "outputs": [
        {
          "output_type": "stream",
          "name": "stdout",
          "text": [
            "Current working directory: /content/portfolio-replica\n"
          ]
        }
      ]
    },
    {
      "cell_type": "code",
      "source": [
        "# Suppress warnings\n",
        "warnings.filterwarnings('ignore')\n",
        "\n",
        "# Pandas display options\n",
        "pd.set_option('display.max_columns', 100)\n",
        "pd.set_option('display.precision', 3)\n",
        "\n",
        "# Seaborn and Matplotlib display options\n",
        "sns.set(style='whitegrid')\n",
        "plt.rcParams['figure.figsize'] = (10, 6)\n",
        "plt.rcParams['axes.titlesize'] = 14\n",
        "plt.rcParams['axes.labelsize'] = 12\n",
        "\n",
        "# Set reproducible seeds\n",
        "SEED = 42\n",
        "random.seed(SEED)\n",
        "np.random.seed(SEED)\n",
        "\n",
        "# Configure logging\n",
        "logging.basicConfig(\n",
        "    level=logging.INFO,\n",
        "    format='%(asctime)s %(levelname)s %(message)s',\n",
        "    datefmt='%H:%M:%S'\n",
        ")\n",
        "logger = logging.getLogger(__name__)\n",
        "\n",
        "# Define paths\n",
        "data_raw_path = \"data/raw/\"\n",
        "data_interim_path = \"data/interim/\"\n",
        "data_processed_path = \"data/processed/\""
      ],
      "metadata": {
        "id": "UkcNz5M4ZK8y"
      },
      "execution_count": 8,
      "outputs": []
    },
    {
      "cell_type": "markdown",
      "source": [
        "# Utilities"
      ],
      "metadata": {
        "id": "bO3_aAynLI-U"
      }
    },
    {
      "cell_type": "code",
      "source": [
        "def impute_series_with_lag(\n",
        "    df: pd.DataFrame,\n",
        "    target_col: str,\n",
        "    corruption_start_idx: int,\n",
        "    min_corr: float = 0.2,\n",
        "    max_features: int = 3,\n",
        "    lag: int = 1,\n",
        "    random_state: Optional[int] = 42,\n",
        "    round_digits: Optional[int] = 1\n",
        ") -> pd.Series:\n",
        "\n",
        "    \"\"\"\n",
        "    Impute missing values in a time series using IterativeImputer with lagged features.\n",
        "\n",
        "    Parameters\n",
        "    ----------\n",
        "    df : pd.DataFrame\n",
        "        Full input DataFrame including the target column.\n",
        "    target_col : str\n",
        "        Name of the target column to impute (e.g., \"LLL1 Comdty\").\n",
        "    corruption_start_idx : int\n",
        "        Index (positional) at which to start treating target_col as missing.\n",
        "    min_corr : float, optional\n",
        "        Minimum absolute correlation for a feature to be included.\n",
        "    max_features : int, optional\n",
        "        Maximum number of top correlated features to use.\n",
        "    lag : int, optional\n",
        "        Lag for lagged features.\n",
        "    random_state : int, optional\n",
        "        Random seed for reproducibility.\n",
        "    round_digits : int or None, optional\n",
        "        If not None, round imputed values to this number of decimal digits.\n",
        "\n",
        "    Returns\n",
        "    -------\n",
        "    pd.Series\n",
        "        Imputed time series (same length as input).\n",
        "    \"\"\"\n",
        "\n",
        "    df_copy = df.copy()\n",
        "    target_series = df_copy[target_col].copy()\n",
        "    target_series.iloc[corruption_start_idx:] = np.nan\n",
        "\n",
        "    df_lagged = df_copy.copy()\n",
        "    df_lagged[\"__target_fixed__\"] = target_series\n",
        "\n",
        "    # Correlation-based feature selection\n",
        "    corr_matrix = df_lagged.iloc[:corruption_start_idx].corr()\n",
        "    correlations = corr_matrix[\"__target_fixed__\"].drop(\"__target_fixed__\").dropna()\n",
        "    top_features = correlations[correlations.abs() > min_corr]\n",
        "    selected_features = top_features.head(max_features).index.tolist()\n",
        "\n",
        "    # Add lagged features\n",
        "    lagged_cols = []\n",
        "    for col in selected_features + [\"__target_fixed__\"]:\n",
        "        lagged_col = f\"{col}_lag\"\n",
        "        df_lagged[lagged_col] = df_lagged[col].shift(lag)\n",
        "        lagged_cols.append(lagged_col)\n",
        "\n",
        "    imputation_data = df_lagged[lagged_cols].copy()\n",
        "\n",
        "    imp = IterativeImputer(estimator=BayesianRidge(), max_iter=10, random_state=random_state)\n",
        "    imputed_array = imp.fit_transform(imputation_data)\n",
        "\n",
        "    target_lagged_col = f\"__target_fixed___lag\"\n",
        "    imputed_target_lagged = imputed_array[:, lagged_cols.index(target_lagged_col)]\n",
        "\n",
        "    # Shift back to get original timing\n",
        "    imputed_target = pd.Series(imputed_target_lagged, index=df.index).shift(-lag)\n",
        "    imputed_target.iloc[:lag] = target_series.iloc[:lag]  # preserve initial values\n",
        "\n",
        "    if round_digits is not None:\n",
        "        imputed_target = np.round(imputed_target, round_digits)\n",
        "\n",
        "    return pd.Series(imputed_target, index=df.index, name=f\"{target_col}_imputed\")\n"
      ],
      "metadata": {
        "id": "85jjL3-RLLOy"
      },
      "execution_count": 57,
      "outputs": []
    },
    {
      "cell_type": "markdown",
      "source": [
        "# Load & Inspect Dataset"
      ],
      "metadata": {
        "id": "DCj_pgaBdBzU"
      }
    },
    {
      "cell_type": "code",
      "source": [
        "# Read full names (row 4)\n",
        "full_names_df = pd.read_excel(data_raw_path + \"dataset_raw.xlsx\", header=None, skiprows=3, nrows=1)\n",
        "full_names = full_names_df.iloc[0].tolist()[1:]\n",
        "# Read Bloomberg tickers (row 5)\n",
        "tickers_df = pd.read_excel(data_raw_path + \"dataset_raw.xlsx\", header=None, skiprows=4, nrows=1)\n",
        "tickers = tickers_df.iloc[0].tolist()[1:]\n",
        "# Create and save a dictionary mapping tickers to full names\n",
        "tickers_name_dict = dict(zip(tickers, full_names))\n",
        "with open(data_processed_path + \"tickers_name_dict.pkl\", \"wb\") as f:\n",
        "    pickle.dump(tickers_name_dict, f)\n",
        "\n",
        "# Read the actual data without using any row as a header (from row 6)\n",
        "df_raw = pd.read_excel(data_raw_path + \"dataset_raw.xlsx\", header=None, skiprows=5)\n",
        "# Set column names and index\n",
        "df_raw.columns = ['Date'] + tickers\n",
        "df_raw['Date'] = pd.to_datetime(df_raw['Date'], format='%d/%m/%Y')\n",
        "df_raw = df_raw.set_index('Date')"
      ],
      "metadata": {
        "id": "4DmBiIJudFxH"
      },
      "execution_count": 10,
      "outputs": []
    },
    {
      "cell_type": "code",
      "source": [
        "print(\"Dataset shape:\", df_raw.shape)\n",
        "print(f\"From {df_raw.index.min()} to {df_raw.index.max()}, total days: {df_raw.shape[0]}\")\n",
        "display(df_raw.index.to_series().diff().value_counts().head())\n",
        "display(df_raw.head())"
      ],
      "metadata": {
        "id": "5KXoy8xDg_sq",
        "outputId": "a3d3483b-318c-4e89-95c8-371e256eeeab",
        "colab": {
          "base_uri": "https://localhost:8080/",
          "height": 402
        }
      },
      "execution_count": 62,
      "outputs": [
        {
          "output_type": "stream",
          "name": "stdout",
          "text": [
            "Dataset shape: (705, 15)\n",
            "From 2007-10-23 00:00:00 to 2021-04-20 00:00:00, total days: 705\n"
          ]
        },
        {
          "output_type": "display_data",
          "data": {
            "text/plain": [
              "Date\n",
              "7 days    704\n",
              "Name: count, dtype: int64"
            ],
            "text/html": [
              "<div>\n",
              "<style scoped>\n",
              "    .dataframe tbody tr th:only-of-type {\n",
              "        vertical-align: middle;\n",
              "    }\n",
              "\n",
              "    .dataframe tbody tr th {\n",
              "        vertical-align: top;\n",
              "    }\n",
              "\n",
              "    .dataframe thead th {\n",
              "        text-align: right;\n",
              "    }\n",
              "</style>\n",
              "<table border=\"1\" class=\"dataframe\">\n",
              "  <thead>\n",
              "    <tr style=\"text-align: right;\">\n",
              "      <th></th>\n",
              "      <th>count</th>\n",
              "    </tr>\n",
              "    <tr>\n",
              "      <th>Date</th>\n",
              "      <th></th>\n",
              "    </tr>\n",
              "  </thead>\n",
              "  <tbody>\n",
              "    <tr>\n",
              "      <th>7 days</th>\n",
              "      <td>704</td>\n",
              "    </tr>\n",
              "  </tbody>\n",
              "</table>\n",
              "</div><br><label><b>dtype:</b> int64</label>"
            ]
          },
          "metadata": {}
        },
        {
          "output_type": "display_data",
          "data": {
            "text/plain": [
              "               MXWO    MXWD  LEGATRUU   HFRXGL     RX1      TY1    GC1    CO1  \\\n",
              "Date                                                                            \n",
              "2007-10-23  1633.44  414.14   350.214  1343.63  113.70  110.516  759.0  82.85   \n",
              "2007-10-30  1663.89  423.26   352.541  1356.53  113.79  110.656  787.8  87.44   \n",
              "2007-11-06  1651.59  419.51   354.176  1360.20  113.79  110.875  823.4  93.26   \n",
              "2007-11-13  1601.81  405.98   357.222  1347.16  114.35  111.719  799.0  88.83   \n",
              "2007-11-20  1570.74  398.54   359.445  1335.21  114.72  113.156  791.4  95.49   \n",
              "\n",
              "                ES1     VG1      NQ1    LLL1     TP1      DU1      TU2  \n",
              "Date                                                                    \n",
              "2007-10-23  1525.50  4393.0  2212.00  1287.0  1570.5  103.385  103.719  \n",
              "2007-10-30  1536.00  4476.0  2217.75  1323.9  1610.5  103.410  103.812  \n",
              "2007-11-06  1525.00  4425.0  2233.50  1320.0  1575.5  103.410  104.047  \n",
              "2007-11-13  1483.25  4323.0  2066.75  1271.0  1440.5  103.595  104.305  \n",
              "2007-11-20  1446.00  4296.0  2035.50  1225.2  1472.5  103.800  104.945  "
            ],
            "text/html": [
              "\n",
              "  <div id=\"df-2f179a88-9bca-4dcb-b6a5-9c98b41b9c04\" class=\"colab-df-container\">\n",
              "    <div>\n",
              "<style scoped>\n",
              "    .dataframe tbody tr th:only-of-type {\n",
              "        vertical-align: middle;\n",
              "    }\n",
              "\n",
              "    .dataframe tbody tr th {\n",
              "        vertical-align: top;\n",
              "    }\n",
              "\n",
              "    .dataframe thead th {\n",
              "        text-align: right;\n",
              "    }\n",
              "</style>\n",
              "<table border=\"1\" class=\"dataframe\">\n",
              "  <thead>\n",
              "    <tr style=\"text-align: right;\">\n",
              "      <th></th>\n",
              "      <th>MXWO</th>\n",
              "      <th>MXWD</th>\n",
              "      <th>LEGATRUU</th>\n",
              "      <th>HFRXGL</th>\n",
              "      <th>RX1</th>\n",
              "      <th>TY1</th>\n",
              "      <th>GC1</th>\n",
              "      <th>CO1</th>\n",
              "      <th>ES1</th>\n",
              "      <th>VG1</th>\n",
              "      <th>NQ1</th>\n",
              "      <th>LLL1</th>\n",
              "      <th>TP1</th>\n",
              "      <th>DU1</th>\n",
              "      <th>TU2</th>\n",
              "    </tr>\n",
              "    <tr>\n",
              "      <th>Date</th>\n",
              "      <th></th>\n",
              "      <th></th>\n",
              "      <th></th>\n",
              "      <th></th>\n",
              "      <th></th>\n",
              "      <th></th>\n",
              "      <th></th>\n",
              "      <th></th>\n",
              "      <th></th>\n",
              "      <th></th>\n",
              "      <th></th>\n",
              "      <th></th>\n",
              "      <th></th>\n",
              "      <th></th>\n",
              "      <th></th>\n",
              "    </tr>\n",
              "  </thead>\n",
              "  <tbody>\n",
              "    <tr>\n",
              "      <th>2007-10-23</th>\n",
              "      <td>1633.44</td>\n",
              "      <td>414.14</td>\n",
              "      <td>350.214</td>\n",
              "      <td>1343.63</td>\n",
              "      <td>113.70</td>\n",
              "      <td>110.516</td>\n",
              "      <td>759.0</td>\n",
              "      <td>82.85</td>\n",
              "      <td>1525.50</td>\n",
              "      <td>4393.0</td>\n",
              "      <td>2212.00</td>\n",
              "      <td>1287.0</td>\n",
              "      <td>1570.5</td>\n",
              "      <td>103.385</td>\n",
              "      <td>103.719</td>\n",
              "    </tr>\n",
              "    <tr>\n",
              "      <th>2007-10-30</th>\n",
              "      <td>1663.89</td>\n",
              "      <td>423.26</td>\n",
              "      <td>352.541</td>\n",
              "      <td>1356.53</td>\n",
              "      <td>113.79</td>\n",
              "      <td>110.656</td>\n",
              "      <td>787.8</td>\n",
              "      <td>87.44</td>\n",
              "      <td>1536.00</td>\n",
              "      <td>4476.0</td>\n",
              "      <td>2217.75</td>\n",
              "      <td>1323.9</td>\n",
              "      <td>1610.5</td>\n",
              "      <td>103.410</td>\n",
              "      <td>103.812</td>\n",
              "    </tr>\n",
              "    <tr>\n",
              "      <th>2007-11-06</th>\n",
              "      <td>1651.59</td>\n",
              "      <td>419.51</td>\n",
              "      <td>354.176</td>\n",
              "      <td>1360.20</td>\n",
              "      <td>113.79</td>\n",
              "      <td>110.875</td>\n",
              "      <td>823.4</td>\n",
              "      <td>93.26</td>\n",
              "      <td>1525.00</td>\n",
              "      <td>4425.0</td>\n",
              "      <td>2233.50</td>\n",
              "      <td>1320.0</td>\n",
              "      <td>1575.5</td>\n",
              "      <td>103.410</td>\n",
              "      <td>104.047</td>\n",
              "    </tr>\n",
              "    <tr>\n",
              "      <th>2007-11-13</th>\n",
              "      <td>1601.81</td>\n",
              "      <td>405.98</td>\n",
              "      <td>357.222</td>\n",
              "      <td>1347.16</td>\n",
              "      <td>114.35</td>\n",
              "      <td>111.719</td>\n",
              "      <td>799.0</td>\n",
              "      <td>88.83</td>\n",
              "      <td>1483.25</td>\n",
              "      <td>4323.0</td>\n",
              "      <td>2066.75</td>\n",
              "      <td>1271.0</td>\n",
              "      <td>1440.5</td>\n",
              "      <td>103.595</td>\n",
              "      <td>104.305</td>\n",
              "    </tr>\n",
              "    <tr>\n",
              "      <th>2007-11-20</th>\n",
              "      <td>1570.74</td>\n",
              "      <td>398.54</td>\n",
              "      <td>359.445</td>\n",
              "      <td>1335.21</td>\n",
              "      <td>114.72</td>\n",
              "      <td>113.156</td>\n",
              "      <td>791.4</td>\n",
              "      <td>95.49</td>\n",
              "      <td>1446.00</td>\n",
              "      <td>4296.0</td>\n",
              "      <td>2035.50</td>\n",
              "      <td>1225.2</td>\n",
              "      <td>1472.5</td>\n",
              "      <td>103.800</td>\n",
              "      <td>104.945</td>\n",
              "    </tr>\n",
              "  </tbody>\n",
              "</table>\n",
              "</div>\n",
              "    <div class=\"colab-df-buttons\">\n",
              "\n",
              "  <div class=\"colab-df-container\">\n",
              "    <button class=\"colab-df-convert\" onclick=\"convertToInteractive('df-2f179a88-9bca-4dcb-b6a5-9c98b41b9c04')\"\n",
              "            title=\"Convert this dataframe to an interactive table.\"\n",
              "            style=\"display:none;\">\n",
              "\n",
              "  <svg xmlns=\"http://www.w3.org/2000/svg\" height=\"24px\" viewBox=\"0 -960 960 960\">\n",
              "    <path d=\"M120-120v-720h720v720H120Zm60-500h600v-160H180v160Zm220 220h160v-160H400v160Zm0 220h160v-160H400v160ZM180-400h160v-160H180v160Zm440 0h160v-160H620v160ZM180-180h160v-160H180v160Zm440 0h160v-160H620v160Z\"/>\n",
              "  </svg>\n",
              "    </button>\n",
              "\n",
              "  <style>\n",
              "    .colab-df-container {\n",
              "      display:flex;\n",
              "      gap: 12px;\n",
              "    }\n",
              "\n",
              "    .colab-df-convert {\n",
              "      background-color: #E8F0FE;\n",
              "      border: none;\n",
              "      border-radius: 50%;\n",
              "      cursor: pointer;\n",
              "      display: none;\n",
              "      fill: #1967D2;\n",
              "      height: 32px;\n",
              "      padding: 0 0 0 0;\n",
              "      width: 32px;\n",
              "    }\n",
              "\n",
              "    .colab-df-convert:hover {\n",
              "      background-color: #E2EBFA;\n",
              "      box-shadow: 0px 1px 2px rgba(60, 64, 67, 0.3), 0px 1px 3px 1px rgba(60, 64, 67, 0.15);\n",
              "      fill: #174EA6;\n",
              "    }\n",
              "\n",
              "    .colab-df-buttons div {\n",
              "      margin-bottom: 4px;\n",
              "    }\n",
              "\n",
              "    [theme=dark] .colab-df-convert {\n",
              "      background-color: #3B4455;\n",
              "      fill: #D2E3FC;\n",
              "    }\n",
              "\n",
              "    [theme=dark] .colab-df-convert:hover {\n",
              "      background-color: #434B5C;\n",
              "      box-shadow: 0px 1px 3px 1px rgba(0, 0, 0, 0.15);\n",
              "      filter: drop-shadow(0px 1px 2px rgba(0, 0, 0, 0.3));\n",
              "      fill: #FFFFFF;\n",
              "    }\n",
              "  </style>\n",
              "\n",
              "    <script>\n",
              "      const buttonEl =\n",
              "        document.querySelector('#df-2f179a88-9bca-4dcb-b6a5-9c98b41b9c04 button.colab-df-convert');\n",
              "      buttonEl.style.display =\n",
              "        google.colab.kernel.accessAllowed ? 'block' : 'none';\n",
              "\n",
              "      async function convertToInteractive(key) {\n",
              "        const element = document.querySelector('#df-2f179a88-9bca-4dcb-b6a5-9c98b41b9c04');\n",
              "        const dataTable =\n",
              "          await google.colab.kernel.invokeFunction('convertToInteractive',\n",
              "                                                    [key], {});\n",
              "        if (!dataTable) return;\n",
              "\n",
              "        const docLinkHtml = 'Like what you see? Visit the ' +\n",
              "          '<a target=\"_blank\" href=https://colab.research.google.com/notebooks/data_table.ipynb>data table notebook</a>'\n",
              "          + ' to learn more about interactive tables.';\n",
              "        element.innerHTML = '';\n",
              "        dataTable['output_type'] = 'display_data';\n",
              "        await google.colab.output.renderOutput(dataTable, element);\n",
              "        const docLink = document.createElement('div');\n",
              "        docLink.innerHTML = docLinkHtml;\n",
              "        element.appendChild(docLink);\n",
              "      }\n",
              "    </script>\n",
              "  </div>\n",
              "\n",
              "\n",
              "    <div id=\"df-00f5b576-ba78-4977-b520-b125e5cdeb6d\">\n",
              "      <button class=\"colab-df-quickchart\" onclick=\"quickchart('df-00f5b576-ba78-4977-b520-b125e5cdeb6d')\"\n",
              "                title=\"Suggest charts\"\n",
              "                style=\"display:none;\">\n",
              "\n",
              "<svg xmlns=\"http://www.w3.org/2000/svg\" height=\"24px\"viewBox=\"0 0 24 24\"\n",
              "     width=\"24px\">\n",
              "    <g>\n",
              "        <path d=\"M19 3H5c-1.1 0-2 .9-2 2v14c0 1.1.9 2 2 2h14c1.1 0 2-.9 2-2V5c0-1.1-.9-2-2-2zM9 17H7v-7h2v7zm4 0h-2V7h2v10zm4 0h-2v-4h2v4z\"/>\n",
              "    </g>\n",
              "</svg>\n",
              "      </button>\n",
              "\n",
              "<style>\n",
              "  .colab-df-quickchart {\n",
              "      --bg-color: #E8F0FE;\n",
              "      --fill-color: #1967D2;\n",
              "      --hover-bg-color: #E2EBFA;\n",
              "      --hover-fill-color: #174EA6;\n",
              "      --disabled-fill-color: #AAA;\n",
              "      --disabled-bg-color: #DDD;\n",
              "  }\n",
              "\n",
              "  [theme=dark] .colab-df-quickchart {\n",
              "      --bg-color: #3B4455;\n",
              "      --fill-color: #D2E3FC;\n",
              "      --hover-bg-color: #434B5C;\n",
              "      --hover-fill-color: #FFFFFF;\n",
              "      --disabled-bg-color: #3B4455;\n",
              "      --disabled-fill-color: #666;\n",
              "  }\n",
              "\n",
              "  .colab-df-quickchart {\n",
              "    background-color: var(--bg-color);\n",
              "    border: none;\n",
              "    border-radius: 50%;\n",
              "    cursor: pointer;\n",
              "    display: none;\n",
              "    fill: var(--fill-color);\n",
              "    height: 32px;\n",
              "    padding: 0;\n",
              "    width: 32px;\n",
              "  }\n",
              "\n",
              "  .colab-df-quickchart:hover {\n",
              "    background-color: var(--hover-bg-color);\n",
              "    box-shadow: 0 1px 2px rgba(60, 64, 67, 0.3), 0 1px 3px 1px rgba(60, 64, 67, 0.15);\n",
              "    fill: var(--button-hover-fill-color);\n",
              "  }\n",
              "\n",
              "  .colab-df-quickchart-complete:disabled,\n",
              "  .colab-df-quickchart-complete:disabled:hover {\n",
              "    background-color: var(--disabled-bg-color);\n",
              "    fill: var(--disabled-fill-color);\n",
              "    box-shadow: none;\n",
              "  }\n",
              "\n",
              "  .colab-df-spinner {\n",
              "    border: 2px solid var(--fill-color);\n",
              "    border-color: transparent;\n",
              "    border-bottom-color: var(--fill-color);\n",
              "    animation:\n",
              "      spin 1s steps(1) infinite;\n",
              "  }\n",
              "\n",
              "  @keyframes spin {\n",
              "    0% {\n",
              "      border-color: transparent;\n",
              "      border-bottom-color: var(--fill-color);\n",
              "      border-left-color: var(--fill-color);\n",
              "    }\n",
              "    20% {\n",
              "      border-color: transparent;\n",
              "      border-left-color: var(--fill-color);\n",
              "      border-top-color: var(--fill-color);\n",
              "    }\n",
              "    30% {\n",
              "      border-color: transparent;\n",
              "      border-left-color: var(--fill-color);\n",
              "      border-top-color: var(--fill-color);\n",
              "      border-right-color: var(--fill-color);\n",
              "    }\n",
              "    40% {\n",
              "      border-color: transparent;\n",
              "      border-right-color: var(--fill-color);\n",
              "      border-top-color: var(--fill-color);\n",
              "    }\n",
              "    60% {\n",
              "      border-color: transparent;\n",
              "      border-right-color: var(--fill-color);\n",
              "    }\n",
              "    80% {\n",
              "      border-color: transparent;\n",
              "      border-right-color: var(--fill-color);\n",
              "      border-bottom-color: var(--fill-color);\n",
              "    }\n",
              "    90% {\n",
              "      border-color: transparent;\n",
              "      border-bottom-color: var(--fill-color);\n",
              "    }\n",
              "  }\n",
              "</style>\n",
              "\n",
              "      <script>\n",
              "        async function quickchart(key) {\n",
              "          const quickchartButtonEl =\n",
              "            document.querySelector('#' + key + ' button');\n",
              "          quickchartButtonEl.disabled = true;  // To prevent multiple clicks.\n",
              "          quickchartButtonEl.classList.add('colab-df-spinner');\n",
              "          try {\n",
              "            const charts = await google.colab.kernel.invokeFunction(\n",
              "                'suggestCharts', [key], {});\n",
              "          } catch (error) {\n",
              "            console.error('Error during call to suggestCharts:', error);\n",
              "          }\n",
              "          quickchartButtonEl.classList.remove('colab-df-spinner');\n",
              "          quickchartButtonEl.classList.add('colab-df-quickchart-complete');\n",
              "        }\n",
              "        (() => {\n",
              "          let quickchartButtonEl =\n",
              "            document.querySelector('#df-00f5b576-ba78-4977-b520-b125e5cdeb6d button');\n",
              "          quickchartButtonEl.style.display =\n",
              "            google.colab.kernel.accessAllowed ? 'block' : 'none';\n",
              "        })();\n",
              "      </script>\n",
              "    </div>\n",
              "\n",
              "    </div>\n",
              "  </div>\n"
            ],
            "application/vnd.google.colaboratory.intrinsic+json": {
              "type": "dataframe",
              "summary": "{\n  \"name\": \"display(df_raw\",\n  \"rows\": 5,\n  \"fields\": [\n    {\n      \"column\": \"Date\",\n      \"properties\": {\n        \"dtype\": \"date\",\n        \"min\": \"2007-10-23 00:00:00\",\n        \"max\": \"2007-11-20 00:00:00\",\n        \"num_unique_values\": 5,\n        \"samples\": [\n          \"2007-10-30 00:00:00\",\n          \"2007-11-20 00:00:00\",\n          \"2007-11-06 00:00:00\"\n        ],\n        \"semantic_type\": \"\",\n        \"description\": \"\"\n      }\n    },\n    {\n      \"column\": \"MXWO\",\n      \"properties\": {\n        \"dtype\": \"number\",\n        \"std\": 37.980670478547395,\n        \"min\": 1570.74,\n        \"max\": 1663.89,\n        \"num_unique_values\": 5,\n        \"samples\": [\n          1663.89,\n          1570.74,\n          1651.59\n        ],\n        \"semantic_type\": \"\",\n        \"description\": \"\"\n      }\n    },\n    {\n      \"column\": \"MXWD\",\n      \"properties\": {\n        \"dtype\": \"number\",\n        \"std\": 10.059452271371425,\n        \"min\": 398.54,\n        \"max\": 423.26,\n        \"num_unique_values\": 5,\n        \"samples\": [\n          423.26,\n          398.54,\n          419.51\n        ],\n        \"semantic_type\": \"\",\n        \"description\": \"\"\n      }\n    },\n    {\n      \"column\": \"LEGATRUU\",\n      \"properties\": {\n        \"dtype\": \"number\",\n        \"std\": 3.6718208103065155,\n        \"min\": 350.2138,\n        \"max\": 359.4446,\n        \"num_unique_values\": 5,\n        \"samples\": [\n          352.5413,\n          359.4446,\n          354.1758\n        ],\n        \"semantic_type\": \"\",\n        \"description\": \"\"\n      }\n    },\n    {\n      \"column\": \"HFRXGL\",\n      \"properties\": {\n        \"dtype\": \"number\",\n        \"std\": 10.04361638056729,\n        \"min\": 1335.21,\n        \"max\": 1360.2,\n        \"num_unique_values\": 5,\n        \"samples\": [\n          1356.53,\n          1335.21,\n          1360.2\n        ],\n        \"semantic_type\": \"\",\n        \"description\": \"\"\n      }\n    },\n    {\n      \"column\": \"RX1\",\n      \"properties\": {\n        \"dtype\": \"number\",\n        \"std\": 0.4457016939613272,\n        \"min\": 113.7,\n        \"max\": 114.72,\n        \"num_unique_values\": 4,\n        \"samples\": [\n          113.79,\n          114.72,\n          113.7\n        ],\n        \"semantic_type\": \"\",\n        \"description\": \"\"\n      }\n    },\n    {\n      \"column\": \"TY1\",\n      \"properties\": {\n        \"dtype\": \"number\",\n        \"std\": 1.094954693697415,\n        \"min\": 110.515625,\n        \"max\": 113.15625,\n        \"num_unique_values\": 5,\n        \"samples\": [\n          110.65625,\n          113.15625,\n          110.875\n        ],\n        \"semantic_type\": \"\",\n        \"description\": \"\"\n      }\n    },\n    {\n      \"column\": \"GC1\",\n      \"properties\": {\n        \"dtype\": \"number\",\n        \"std\": 23.140267932761706,\n        \"min\": 759.0,\n        \"max\": 823.4,\n        \"num_unique_values\": 5,\n        \"samples\": [\n          787.8,\n          791.4,\n          823.4\n        ],\n        \"semantic_type\": \"\",\n        \"description\": \"\"\n      }\n    },\n    {\n      \"column\": \"CO1\",\n      \"properties\": {\n        \"dtype\": \"number\",\n        \"std\": 4.972557691973017,\n        \"min\": 82.85,\n        \"max\": 95.49,\n        \"num_unique_values\": 5,\n        \"samples\": [\n          87.44,\n          95.49,\n          93.26\n        ],\n        \"semantic_type\": \"\",\n        \"description\": \"\"\n      }\n    },\n    {\n      \"column\": \"ES1\",\n      \"properties\": {\n        \"dtype\": \"number\",\n        \"std\": 37.8093903680025,\n        \"min\": 1446.0,\n        \"max\": 1536.0,\n        \"num_unique_values\": 5,\n        \"samples\": [\n          1536.0,\n          1446.0,\n          1525.0\n        ],\n        \"semantic_type\": \"\",\n        \"description\": \"\"\n      }\n    },\n    {\n      \"column\": \"VG1\",\n      \"properties\": {\n        \"dtype\": \"number\",\n        \"std\": 73.6226867208743,\n        \"min\": 4296.0,\n        \"max\": 4476.0,\n        \"num_unique_values\": 5,\n        \"samples\": [\n          4476.0,\n          4296.0,\n          4425.0\n        ],\n        \"semantic_type\": \"\",\n        \"description\": \"\"\n      }\n    },\n    {\n      \"column\": \"NQ1\",\n      \"properties\": {\n        \"dtype\": \"number\",\n        \"std\": 94.07320952322186,\n        \"min\": 2035.5,\n        \"max\": 2233.5,\n        \"num_unique_values\": 5,\n        \"samples\": [\n          2217.75,\n          2035.5,\n          2233.5\n        ],\n        \"semantic_type\": \"\",\n        \"description\": \"\"\n      }\n    },\n    {\n      \"column\": \"LLL1\",\n      \"properties\": {\n        \"dtype\": \"number\",\n        \"std\": 40.35271985876541,\n        \"min\": 1225.2,\n        \"max\": 1323.9,\n        \"num_unique_values\": 5,\n        \"samples\": [\n          1323.9,\n          1225.2,\n          1320.0\n        ],\n        \"semantic_type\": \"\",\n        \"description\": \"\"\n      }\n    },\n    {\n      \"column\": \"TP1\",\n      \"properties\": {\n        \"dtype\": \"number\",\n        \"std\": 73.19699447381703,\n        \"min\": 1440.5,\n        \"max\": 1610.5,\n        \"num_unique_values\": 5,\n        \"samples\": [\n          1610.5,\n          1472.5,\n          1575.5\n        ],\n        \"semantic_type\": \"\",\n        \"description\": \"\"\n      }\n    },\n    {\n      \"column\": \"DU1\",\n      \"properties\": {\n        \"dtype\": \"number\",\n        \"std\": 0.1777990438669443,\n        \"min\": 103.385,\n        \"max\": 103.8,\n        \"num_unique_values\": 4,\n        \"samples\": [\n          103.41,\n          103.8,\n          103.385\n        ],\n        \"semantic_type\": \"\",\n        \"description\": \"\"\n      }\n    },\n    {\n      \"column\": \"TU2\",\n      \"properties\": {\n        \"dtype\": \"number\",\n        \"std\": 0.4913621552156057,\n        \"min\": 103.71875,\n        \"max\": 104.9453125,\n        \"num_unique_values\": 5,\n        \"samples\": [\n          103.8125,\n          104.9453125,\n          104.046875\n        ],\n        \"semantic_type\": \"\",\n        \"description\": \"\"\n      }\n    }\n  ]\n}"
            }
          },
          "metadata": {}
        }
      ]
    },
    {
      "cell_type": "code",
      "source": [
        "print(\"Dataset Statistics:\")\n",
        "display(df_raw.describe())"
      ],
      "metadata": {
        "id": "DsjRB0NdoBhX"
      },
      "execution_count": null,
      "outputs": []
    },
    {
      "cell_type": "code",
      "source": [
        "print(\"Missing Values:\")\n",
        "display(df_raw.isna().sum().sort_values(ascending=False))"
      ],
      "metadata": {
        "id": "yCz8fh5FoPgr"
      },
      "execution_count": null,
      "outputs": []
    },
    {
      "cell_type": "code",
      "source": [
        "df_raw.iloc[:,-5:].plot(subplots=True, figsize=(14, 8), title=\"First few time series\")"
      ],
      "metadata": {
        "id": "TyE2BVLZmq2V"
      },
      "execution_count": null,
      "outputs": []
    },
    {
      "cell_type": "markdown",
      "source": [
        "## Add missing data to LLL1"
      ],
      "metadata": {
        "id": "0R1Ah-QtyXvc"
      }
    },
    {
      "cell_type": "markdown",
      "source": [
        "### Search for real missing data"
      ],
      "metadata": {
        "id": "-CT3QqYJ_pvw"
      }
    },
    {
      "cell_type": "code",
      "source": [
        "!pip install --upgrade --no-cache-dir git+https://github.com/rongardF/tvdatafeed.git --quiet\n",
        "from tvDatafeed import TvDatafeed,Interval"
      ],
      "metadata": {
        "id": "0h8H62EyycIM"
      },
      "execution_count": null,
      "outputs": []
    },
    {
      "cell_type": "code",
      "source": [
        "tv = TvDatafeed()\n",
        "\n",
        "# Get 1000 weekly bars (~20 years)\n",
        "df_LLL1 = tv.get_hist(\n",
        "    symbol=\"LLL1\",\n",
        "    exchange=\"NYMEX\",\n",
        "    interval=Interval.in_weekly,\n",
        "    n_bars=1000\n",
        ")"
      ],
      "metadata": {
        "id": "aTFVdPmv0a1e"
      },
      "execution_count": null,
      "outputs": []
    },
    {
      "cell_type": "markdown",
      "source": [
        "### Infer missing data"
      ],
      "metadata": {
        "id": "kvXmgJG5_s5_"
      }
    },
    {
      "cell_type": "code",
      "source": [
        "# Infer missing data for LLL1 using IterativeImputer with lagged features.\n",
        "LLL1_imputed_series = impute_series_with_lag(\n",
        "    df=df_raw,\n",
        "    target_col=\"LLL1\",\n",
        "    corruption_start_idx=192,\n",
        "    lag = 20\n",
        ")\n",
        "\n",
        "# Plotting\n",
        "plt.figure(figsize=(10, 4))\n",
        "plt.plot(df_raw.index, LLL1_imputed_series, label=\"Imputed LLL1 (Iterative + Lag)\")\n",
        "plt.plot(df_raw.index[:192], df_raw[\"LLL1\"].iloc[:192], label=\"Original LLL1\", linestyle=\"--\")\n",
        "plt.title(\"LLL1 Imputation with Iterative Imputer + Lag Features\")\n",
        "plt.legend(fontsize='x-small')\n",
        "plt.tight_layout()\n",
        "plt.show()\n",
        "\n",
        "# Replace the corrupted column in the df and save\n",
        "df_cleaned = df_raw.copy()\n",
        "df_cleaned[\"LLL1\"] = LLL1_imputed_series\n",
        "df_cleaned.to_parquet(\"data/processed/df_cleaned_imp_LLL1.parquet\", index=True)\n"
      ],
      "metadata": {
        "id": "7NoY_IY4_x7-",
        "outputId": "7b839138-1562-44d6-9188-627e35c62e79",
        "colab": {
          "base_uri": "https://localhost:8080/",
          "height": 401
        }
      },
      "execution_count": 64,
      "outputs": [
        {
          "output_type": "display_data",
          "data": {
            "text/plain": [
              "<Figure size 1000x400 with 1 Axes>"
            ],
            "image/png": "[encoded data removed]"
          },
          "metadata": {}
        }
      ]
    },
    {
      "cell_type": "markdown",
      "source": [
        "# PUSH"
      ],
      "metadata": {
        "id": "dlJaNuXjr0Pd"
      }
    },
    {
      "cell_type": "code",
      "source": [
        "!curl -fsSL https://cli.github.com/packages/githubcli-archive-keyring.gpg | sudo dd of=/usr/share/keyrings/githubcli-archive-keyring.gpg > /dev/null\n",
        "!sudo chmod go+r /usr/share/keyrings/githubcli-archive-keyring.gpg > /dev/null\n",
        "!echo \"deb [arch=$(dpkg --print-architecture) signed-by=/usr/share/keyrings/githubcli-archive-keyring.gpg] https://cli.github.com/packages stable main\" | sudo tee /etc/apt/sources.list.d/github-cli.list > /dev/null\n",
        "!sudo apt update > /dev/null\n",
        "!sudo apt install gh -y > /dev/null\n"
      ],
      "metadata": {
        "collapsed": true,
        "id": "nZlZ0ovTr1q0",
        "outputId": "3457f804-8f6d-4552-c0ea-43a4675a3f94",
        "colab": {
          "base_uri": "https://localhost:8080/"
        }
      },
      "execution_count": 1,
      "outputs": [
        {
          "output_type": "stream",
          "name": "stdout",
          "text": [
            "4+1 records in\n",
            "4+1 records out\n",
            "2270 bytes (2.3 kB, 2.2 KiB) copied, 0.305822 s, 7.4 kB/s\n",
            "\n",
            "WARNING: apt does not have a stable CLI interface. Use with caution in scripts.\n",
            "\n",
            "\n",
            "\n",
            "W: Skipping acquire of configured file 'main/source/Sources' as repository 'https://r2u.stat.illinois.edu/ubuntu jammy InRelease' does not seem to provide it (sources.list entry misspelt?)\n",
            "\n",
            "WARNING: apt does not have a stable CLI interface. Use with caution in scripts.\n",
            "\n",
            "debconf: unable to initialize frontend: Dialog\n",
            "debconf: (No usable dialog-like program is installed, so the dialog based frontend cannot be used. at /usr/share/perl5/Debconf/FrontEnd/Dialog.pm line 78, <> line 1.)\n",
            "debconf: falling back to frontend: Readline\n",
            "debconf: unable to initialize frontend: Readline\n",
            "debconf: (This frontend requires a controlling tty.)\n",
            "debconf: falling back to frontend: Teletype\n",
            "dpkg-preconfigure: unable to re-open stdin: \n"
          ]
        }
      ]
    },
    {
      "cell_type": "code",
      "source": [
        "!git config --global user.email \"jacoporaffaeli@gmail.com\"\n",
        "!git config --global user.name \"jacopo-raffaeli\""
      ],
      "metadata": {
        "id": "cwXuXNZKwm6Z"
      },
      "execution_count": 65,
      "outputs": []
    },
    {
      "cell_type": "code",
      "source": [
        "from getpass import getpass\n",
        "import os\n",
        "\n",
        "# 1. Get your GitHub Personal Access Token securely\n",
        "token = getpass(\"Paste your GitHub Personal Access Token: \")\n",
        "os.environ['GITHUB_TOKEN'] = token\n",
        "\n",
        "# 2. Set your GitHub repo details\n",
        "GITHUB_USERNAME = \"jacopo-raffaeli\"\n",
        "REPO_NAME = \"portfolio-replica\"\n",
        "BRANCH = \"main\"\n",
        "\n",
        "# 3. Construct remote URL with token embedded (hidden from output)\n",
        "remote_url = f\"https://{token}@github.com/{GITHUB_USERNAME}/{REPO_NAME}.git\"\n",
        "\n",
        "# 4. Set git user info (if not done already)\n",
        "!git config --global user.email \"jacoporaffaeli@gmail.com\"\n",
        "!git config --global user.name \"jacopo-raffaeli\"\n",
        "\n",
        "# 5. Change remote origin URL to token-embedded one\n",
        "!git remote set-url origin {remote_url}\n"
      ],
      "metadata": {
        "id": "5mN7GvtVu3Kx",
        "outputId": "4ce5b5ab-8685-4813-d844-758a0712a5fe",
        "colab": {
          "base_uri": "https://localhost:8080/"
        }
      },
      "execution_count": 66,
      "outputs": [
        {
          "name": "stdout",
          "output_type": "stream",
          "text": [
            "Paste your GitHub Personal Access Token: ··········\n"
          ]
        }
      ]
    },
    {
      "cell_type": "code",
      "source": [
        "# 6. Add and commit changes (customize your commit message)\n",
        "!git add .\n",
        "!git commit -m \"feat: Add Initial EDA\" || echo \"No changes to commit.\"\n",
        "\n",
        "# 7. Push to GitHub\n",
        "!git push origin {BRANCH}"
      ],
      "metadata": {
        "id": "Cr23drSAwENv",
        "outputId": "7483b6d7-1b4d-4a23-a34f-ae14c38e8940",
        "colab": {
          "base_uri": "https://localhost:8080/"
        }
      },
      "execution_count": 67,
      "outputs": [
        {
          "output_type": "stream",
          "name": "stdout",
          "text": [
            "[main 83af8a3] feat: Add Initial EDA\n",
            " 1 file changed, 0 insertions(+), 0 deletions(-)\n",
            " create mode 100644 data/processed/df_cleaned_imp_LLL1.parquet\n",
            "Enumerating objects: 8, done.\n",
            "Counting objects: 100% (8/8), done.\n",
            "Delta compression using up to 2 threads\n",
            "Compressing objects: 100% (5/5), done.\n",
            "Writing objects: 100% (5/5), 45.85 KiB | 6.55 MiB/s, done.\n",
            "Total 5 (delta 1), reused 0 (delta 0), pack-reused 0\n",
            "remote: Resolving deltas: 100% (1/1), completed with 1 local object.\u001b[K\n",
            "To https://github.com/jacopo-raffaeli/portfolio-replica.git\n",
            "   12a318f..83af8a3  main -> main\n"
          ]
        }
      ]
    },
    {
      "cell_type": "code",
      "source": [
        "# Show git status, which files are changed and staged\n",
        "!git status\n",
        "\n",
        "# Show last commit files changed (to check if notebook was included)\n",
        "!git show --name-only --oneline -1\n",
        "\n",
        "# Show current branch\n",
        "!git branch"
      ],
      "metadata": {
        "id": "RgsoqJNs6-57",
        "outputId": "5020483a-6b6a-4acd-9efe-d24351455f07",
        "colab": {
          "base_uri": "https://localhost:8080/"
        }
      },
      "execution_count": 68,
      "outputs": [
        {
          "output_type": "stream",
          "name": "stdout",
          "text": [
            "On branch main\n",
            "Your branch is up to date with 'origin/main'.\n",
            "\n",
            "nothing to commit, working tree clean\n",
            "\u001b[33m83af8a3\u001b[m\u001b[33m (\u001b[m\u001b[1;36mHEAD -> \u001b[m\u001b[1;32mmain\u001b[m\u001b[33m, \u001b[m\u001b[1;31morigin/main\u001b[m\u001b[33m, \u001b[m\u001b[1;31morigin/HEAD\u001b[m\u001b[33m)\u001b[m feat: Add Initial EDA\n",
            "data/processed/df_cleaned_imp_LLL1.parquet\n",
            "* \u001b[32mmain\u001b[m\n"
          ]
        }
      ]
    }
  ]
}