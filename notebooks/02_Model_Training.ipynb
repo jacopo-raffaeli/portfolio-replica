{
  "nbformat": 4,
  "nbformat_minor": 0,
  "metadata": {
    "colab": {
      "provenance": [],
      "toc_visible": true,
      "authorship_tag": "ABX9TyOBJ+qwPDM8snd/LhQKWknU"
    },
    "kernelspec": {
      "name": "python3",
      "display_name": "Python 3"
    },
    "language_info": {
      "name": "python"
    }
  },
  "cells": [
    {
      "cell_type": "markdown",
      "source": [
        "# 📓 Notebook 02: Model Training\n",
        "\n",
        "## Short description of the notebook"
      ],
      "metadata": {
        "id": "IofWeS66Gejk"
      }
    },
    {
      "cell_type": "markdown",
      "source": [
        "# NOTES\n",
        "What we have done:\n",
        "\n",
        "- Load cleaned dataset and transform to X,y\n",
        "\n",
        "- Split Data"
      ],
      "metadata": {
        "id": "GuZKA1hXwslv"
      }
    },
    {
      "cell_type": "markdown",
      "source": [
        "# 📚 Dependencies"
      ],
      "metadata": {
        "id": "flR6Oc9bQzIC"
      }
    },
    {
      "cell_type": "code",
      "source": [
        "# Standard library\n",
        "import os\n",
        "import sys\n",
        "import warnings\n",
        "import random\n",
        "import logging\n",
        "import pickle\n",
        "from pathlib import Path\n",
        "import re\n",
        "import joblib\n",
        "\n",
        "# Core scientific stack\n",
        "import numpy as np\n",
        "import pandas as pd\n",
        "import matplotlib.pyplot as plt\n",
        "import seaborn as sns\n",
        "\n",
        "# Others\n",
        "from sklearn.linear_model import BayesianRidge\n",
        "from sklearn.experimental import enable_iterative_imputer\n",
        "from sklearn.impute import IterativeImputer\n",
        "from typing import List, Optional, Union\n",
        "from statsmodels.graphics.tsaplots import plot_acf, plot_pacf\n",
        "import pandas as pd\n",
        "from pathlib import Path\n",
        "from typing import Dict, List, Tuple\n",
        "!pip install sktime\n",
        "from sktime.forecasting.model_selection import SlidingWindowSplitter, ExpandingWindowSplitter\n",
        "from typing import Generator, Tuple\n",
        "import pandas as pd\n",
        "import numpy as np\n",
        "import pandas as pd\n",
        "from sklearn.base import clone\n"
      ],
      "metadata": {
        "id": "EzPX8Gdja4DB",
        "colab": {
          "base_uri": "https://localhost:8080/"
        },
        "outputId": "20708426-88b1-4498-b5db-b268ba9b67ba"
      },
      "execution_count": 11,
      "outputs": [
        {
          "output_type": "stream",
          "name": "stdout",
          "text": [
            "Requirement already satisfied: sktime in /usr/local/lib/python3.11/dist-packages (0.37.0)\n",
            "Requirement already satisfied: joblib<1.5,>=1.2.0 in /usr/local/lib/python3.11/dist-packages (from sktime) (1.4.2)\n",
            "Requirement already satisfied: numpy<2.3,>=1.21 in /usr/local/lib/python3.11/dist-packages (from sktime) (2.0.2)\n",
            "Requirement already satisfied: packaging in /usr/local/lib/python3.11/dist-packages (from sktime) (24.2)\n",
            "Requirement already satisfied: pandas<2.3.0,>=1.1 in /usr/local/lib/python3.11/dist-packages (from sktime) (2.2.2)\n",
            "Requirement already satisfied: scikit-base<0.13.0,>=0.6.1 in /usr/local/lib/python3.11/dist-packages (from sktime) (0.12.3)\n",
            "Requirement already satisfied: scikit-learn<1.7.0,>=0.24 in /usr/local/lib/python3.11/dist-packages (from sktime) (1.6.1)\n",
            "Requirement already satisfied: scipy<2.0.0,>=1.2 in /usr/local/lib/python3.11/dist-packages (from sktime) (1.15.3)\n",
            "Requirement already satisfied: python-dateutil>=2.8.2 in /usr/local/lib/python3.11/dist-packages (from pandas<2.3.0,>=1.1->sktime) (2.9.0.post0)\n",
            "Requirement already satisfied: pytz>=2020.1 in /usr/local/lib/python3.11/dist-packages (from pandas<2.3.0,>=1.1->sktime) (2025.2)\n",
            "Requirement already satisfied: tzdata>=2022.7 in /usr/local/lib/python3.11/dist-packages (from pandas<2.3.0,>=1.1->sktime) (2025.2)\n",
            "Requirement already satisfied: threadpoolctl>=3.1.0 in /usr/local/lib/python3.11/dist-packages (from scikit-learn<1.7.0,>=0.24->sktime) (3.6.0)\n",
            "Requirement already satisfied: six>=1.5 in /usr/local/lib/python3.11/dist-packages (from python-dateutil>=2.8.2->pandas<2.3.0,>=1.1->sktime) (1.17.0)\n"
          ]
        }
      ]
    },
    {
      "cell_type": "markdown",
      "source": [
        "# 🌐 General Setup"
      ],
      "metadata": {
        "id": "GakLOwrRHh29"
      }
    },
    {
      "cell_type": "code",
      "execution_count": 12,
      "metadata": {
        "id": "FuWiaKoGG3vm",
        "collapsed": true
      },
      "outputs": [],
      "source": [
        "%%bash\n",
        "cd /content\n",
        "\n",
        "REPO=https://github.com/jacopo-raffaeli/portfolio-replica.git\n",
        "DIR=portfolio-replica\n",
        "\n",
        "# Clone if needed, else pull latest\n",
        "if [ ! -d \"$DIR\" ]; then\n",
        "  git clone $REPO > /dev/null 2>&1\n",
        "else\n",
        "  cd $DIR\n",
        "  git pull origin main > /dev/null 2>&1\n",
        "  cd ..\n",
        "fi\n",
        "\n",
        "# Enter project root and install dependencies\n",
        "cd $DIR\n",
        "pip install -r requirements.txt > /dev/null 2>&1\n"
      ]
    },
    {
      "cell_type": "code",
      "source": [
        "# Add repo root to sys.path for imports\n",
        "PROJECT_ROOT = \"/content/portfolio-replica\"\n",
        "if PROJECT_ROOT not in sys.path:\n",
        "    sys.path.append(PROJECT_ROOT)\n",
        "    sys.path.append(os.path.join(PROJECT_ROOT, 'src'))\n",
        "\n",
        "# Set working directory for relative paths\n",
        "os.chdir(PROJECT_ROOT)\n",
        "print(f\"Current working directory: {os.getcwd()}\")"
      ],
      "metadata": {
        "colab": {
          "base_uri": "https://localhost:8080/"
        },
        "id": "ypms8AzYXuZ6",
        "outputId": "a80e9a91-5f0e-43b5-bcac-595e961cafe2"
      },
      "execution_count": 13,
      "outputs": [
        {
          "output_type": "stream",
          "name": "stdout",
          "text": [
            "Current working directory: /content/portfolio-replica\n"
          ]
        }
      ]
    },
    {
      "cell_type": "code",
      "source": [
        "# Suppress warnings\n",
        "warnings.filterwarnings('ignore')\n",
        "\n",
        "# Pandas display options\n",
        "pd.set_option('display.max_columns', 100)\n",
        "pd.set_option('display.precision', 3)\n",
        "\n",
        "# Seaborn and Matplotlib display options\n",
        "sns.set(style='whitegrid')\n",
        "plt.rcParams['figure.figsize'] = (12, 6)\n",
        "plt.rcParams['axes.titlesize'] = 14\n",
        "plt.rcParams['axes.labelsize'] = 12\n",
        "\n",
        "# Set reproducible seeds\n",
        "SEED = 42\n",
        "random.seed(SEED)\n",
        "np.random.seed(SEED)\n",
        "\n",
        "# Configure logging\n",
        "logging.basicConfig(\n",
        "    level=logging.INFO,\n",
        "    format='%(asctime)s %(levelname)s %(message)s',\n",
        "    datefmt='%H:%M:%S'\n",
        ")\n",
        "logger = logging.getLogger(__name__)\n",
        "\n",
        "# Define paths\n",
        "data_raw_path = \"data/raw/\"\n",
        "data_interim_path = \"data/interim/\"\n",
        "data_processed_path = \"data/processed/\""
      ],
      "metadata": {
        "id": "UkcNz5M4ZK8y"
      },
      "execution_count": 30,
      "outputs": []
    },
    {
      "cell_type": "markdown",
      "source": [
        "# 🛠 Utilities"
      ],
      "metadata": {
        "id": "bO3_aAynLI-U"
      }
    },
    {
      "cell_type": "markdown",
      "source": [
        "## Plots"
      ],
      "metadata": {
        "id": "_gtgmCgBGL51"
      }
    },
    {
      "cell_type": "code",
      "source": [
        "def plot_series(\n",
        "    df: pd.DataFrame,\n",
        "    cols: list,\n",
        "    title: str = None,\n",
        "    save_path: str = None,\n",
        "    dpi: int = 300,\n",
        "    transparent: bool = True\n",
        "):\n",
        "    \"\"\"Plot one or more time series.\"\"\"\n",
        "    plt.figure()\n",
        "    ax = df[cols].plot()\n",
        "    ax.set_title(title or f\"Time Series: {', '.join(cols)}\")\n",
        "    ax.set_xlabel(\"Date\")\n",
        "    ax.set_ylabel(\"Value\")\n",
        "    ax.legend()\n",
        "    plt.tight_layout()\n",
        "    if save_path:\n",
        "        Path(save_path).parent.mkdir(parents=True, exist_ok=True)\n",
        "        plt.savefig(save_path, dpi=dpi, transparent=transparent)\n",
        "\n",
        "def plot_acf_pacf(\n",
        "    series: pd.Series,\n",
        "    lags: int,\n",
        "    title_prefix: str = None,\n",
        "    save_path: str = None,\n",
        "    dpi: int = 300,\n",
        "    transparent: bool = True\n",
        "):\n",
        "    \"\"\"Plot ACF and PACF of a series.\"\"\"\n",
        "    fig, axes = plt.subplots(2, 1)\n",
        "    plot_acf(series.dropna(), lags=lags, ax=axes[0])\n",
        "    plot_pacf(series.dropna(), lags=lags, ax=axes[1])\n",
        "    axes[0].set_title((title_prefix or \"\") + \" ACF\")\n",
        "    axes[1].set_title((title_prefix or \"\") + \" PACF\")\n",
        "    plt.tight_layout()\n",
        "    if save_path:\n",
        "        Path(save_path).parent.mkdir(parents=True, exist_ok=True)\n",
        "        fig.savefig(save_path, dpi=dpi, transparent=transparent)\n",
        "\n",
        "def plot_rolling_stats(\n",
        "    series: pd.Series,\n",
        "    window: int = 20,\n",
        "    zscore: bool = False,\n",
        "    title: str = None,\n",
        "    save_path: str = None,\n",
        "    dpi: int = 300,\n",
        "    transparent: bool = True\n",
        "):\n",
        "    \"\"\"Plot rolling mean & std or z-score.\"\"\"\n",
        "    rolling_mean = series.rolling(window).mean()\n",
        "    rolling_std = series.rolling(window).std()\n",
        "\n",
        "    plt.figure()\n",
        "    ax = plt.gca()\n",
        "    if zscore:\n",
        "        z = (series - rolling_mean) / rolling_std\n",
        "        z.plot(ax=ax)\n",
        "        ax.axhline(0, linestyle=\"--\")\n",
        "        ax.axhline(1, linestyle=\"--\")\n",
        "        ax.axhline(-1, linestyle=\"--\")\n",
        "        ax.set_title(title or f\"Rolling Z-Score (window={window})\")\n",
        "    else:\n",
        "        series.plot(ax=ax, alpha=0.5, label=\"Original\")\n",
        "        rolling_mean.plot(ax=ax, label=f\"Mean ({window})\")\n",
        "        rolling_std.plot(ax=ax, label=f\"Std ({window})\")\n",
        "        ax.set_title(title or f\"Rolling Mean & Std (window={window})\")\n",
        "        ax.legend()\n",
        "    plt.tight_layout()\n",
        "    if save_path:\n",
        "        Path(save_path).parent.mkdir(parents=True, exist_ok=True)\n",
        "        plt.savefig(save_path, dpi=dpi, transparent=transparent)\n",
        "\n",
        "def plot_correlation_matrix(\n",
        "    df: pd.DataFrame,\n",
        "    method: str = \"pearson\",\n",
        "    title: str = None,\n",
        "    save_path: str = None,\n",
        "    dpi: int = 300,\n",
        "    transparent: bool = True\n",
        "):\n",
        "    \"\"\"Plot correlation heatmap.\"\"\"\n",
        "    corr = df.corr(method=method)\n",
        "    plt.figure()\n",
        "    ax = sns.heatmap(corr, annot=True, fmt=\".2f\", square=True)\n",
        "    ax.set_title(title or f\"{method.title()} Correlation Matrix\")\n",
        "    plt.tight_layout()\n",
        "    if save_path:\n",
        "        Path(save_path).parent.mkdir(parents=True, exist_ok=True)\n",
        "        plt.savefig(save_path, dpi=dpi, transparent=transparent)\n",
        "\n",
        "def plot_and_save(\n",
        "    plot_func,\n",
        "    *args,\n",
        "    plot_type: str,\n",
        "    subject: str,\n",
        "    variant: str = \"\",\n",
        "    directory: str = \"reports/figures\",\n",
        "    extension: str = \"png\",\n",
        "    dpi: int = 300,\n",
        "    transparent: bool = True,\n",
        "    show: bool = True,\n",
        "    **kwargs\n",
        "):\n",
        "    \"\"\"Wrapper to standardize plot saving and naming.\"\"\"\n",
        "    Path(directory).mkdir(parents=True, exist_ok=True)\n",
        "    subject_clean = sanitize_filename(subject)\n",
        "    variant_clean = sanitize_filename(variant) if variant else \"\"\n",
        "    filename_parts = [plot_type, subject_clean]\n",
        "    if variant_clean:\n",
        "        filename_parts.append(variant_clean)\n",
        "    filename = \"__\".join(filename_parts) + f\".{extension}\"\n",
        "    save_path = Path(directory) / filename\n",
        "\n",
        "    plot_func(*args, save_path=str(save_path), dpi=dpi, transparent=transparent, **kwargs)\n",
        "    if show:\n",
        "        plt.show()\n",
        "    else:\n",
        "        plt.close()\n",
        "\n",
        "def sanitize_filename(s: str) -> str:\n",
        "    \"\"\"Sanitize strings for filenames (e.g. column names).\"\"\"\n",
        "    return re.sub(r\"[^a-zA-Z0-9_]\", \"_\", s.strip().replace(\" \", \"_\"))"
      ],
      "metadata": {
        "id": "oVd9nezwE_cj"
      },
      "execution_count": 18,
      "outputs": []
    },
    {
      "cell_type": "markdown",
      "source": [
        "## Load & Prepare data"
      ],
      "metadata": {
        "id": "Y8VS4kUhopGJ"
      }
    },
    {
      "cell_type": "code",
      "source": [
        "def compute_index_returns(\n",
        "    df_idx: pd.DataFrame,\n",
        "    index_weights: Dict[str, float] = None\n",
        ") -> pd.Series:\n",
        "    \"\"\"\n",
        "    Compute weighted composite index returns from raw index price levels.\n",
        "\n",
        "    Parameters\n",
        "    ----------\n",
        "    df_idx : pd.DataFrame\n",
        "        DataFrame of index price levels (columns are index names).\n",
        "    index_weights : dict, optional\n",
        "        Mapping from index column to weight. If None, uses equal weights.\n",
        "\n",
        "    Returns\n",
        "    -------\n",
        "    y : pd.Series\n",
        "        Composite index returns.\n",
        "    \"\"\"\n",
        "    # Determine which indices to use\n",
        "    cols = df_idx.columns.tolist()\n",
        "    if index_weights is None:\n",
        "        # Equal weights if not provided\n",
        "        index_weights = {col: 1.0 / len(cols) for col in cols}\n",
        "    else:\n",
        "        # Validate provided keys\n",
        "        missing = set(index_weights) - set(cols)\n",
        "        if missing:\n",
        "            raise KeyError(f\"Index weights refer to unknown columns: {missing}\")\n",
        "\n",
        "    # Compute simple returns\n",
        "    ret = df_idx[list(index_weights.keys())].pct_change(fill_method=None).dropna()\n",
        "\n",
        "    # Apply weights\n",
        "    weighted = pd.DataFrame({col: ret[col] * weight\n",
        "                             for col, weight in index_weights.items()},\n",
        "                            index=ret.index)\n",
        "\n",
        "    # Sum to get composite\n",
        "    y = weighted.sum(axis=1)\n",
        "    y.name = \"Target_Index\"\n",
        "    return y\n",
        "\n",
        "def compute_futures_returns(\n",
        "    df_fut: pd.DataFrame\n",
        ") -> pd.DataFrame:\n",
        "    \"\"\"\n",
        "    Compute returns for futures price levels.\n",
        "\n",
        "    Parameters\n",
        "    ----------\n",
        "    df_fut : pd.DataFrame\n",
        "        DataFrame of futures price levels (columns are futures names).\n",
        "\n",
        "    Returns\n",
        "    -------\n",
        "    X : pd.DataFrame\n",
        "        Futures returns DataFrame.\n",
        "    \"\"\"\n",
        "    X = df_fut.pct_change(fill_method=None).dropna()\n",
        "    return X\n",
        "\n",
        "def align_features_target(\n",
        "    X: pd.DataFrame,\n",
        "    y: pd.Series\n",
        ") -> Tuple[pd.DataFrame, pd.Series]:\n",
        "    \"\"\"\n",
        "    Align feature and target on common datetime index.\n",
        "\n",
        "    Parameters\n",
        "    ----------\n",
        "    X : pd.DataFrame\n",
        "        Feature returns with datetime index.\n",
        "    y : pd.Series\n",
        "        Target returns with datetime index.\n",
        "\n",
        "    Returns\n",
        "    -------\n",
        "    X_aligned : pd.DataFrame\n",
        "    y_aligned : pd.Series\n",
        "        Subsets of X and y sharing the same index.\n",
        "    \"\"\"\n",
        "    common_idx = X.index.intersection(y.index)\n",
        "    X_aligned = X.loc[common_idx]\n",
        "    y_aligned = y.loc[common_idx]\n",
        "    return X_aligned, y_aligned\n",
        "\n",
        "def prepare_X_y(\n",
        "    df_indices: pd.DataFrame,\n",
        "    df_futures: pd.DataFrame,\n",
        "    index_weights: Dict[str, float] = None\n",
        ") -> Tuple[pd.DataFrame, pd.Series]:\n",
        "    \"\"\"\n",
        "    High-level wrapper: compute and align index and futures returns.\n",
        "\n",
        "    Parameters\n",
        "    ----------\n",
        "    df_indices : pd.DataFrame\n",
        "        Raw index price levels.\n",
        "    df_futures : pd.DataFrame\n",
        "        Raw futures price levels.\n",
        "    index_weights : dict, optional\n",
        "        Composite index weights. Default: equal weights.\n",
        "\n",
        "    Returns\n",
        "    -------\n",
        "    X, y : aligned returns ready for modeling\n",
        "    \"\"\"\n",
        "    y = compute_index_returns(df_indices, index_weights=index_weights)\n",
        "    X = compute_futures_returns(df_futures)\n",
        "    X_aligned, y_aligned = align_features_target(X, y)\n",
        "    return X_aligned, y_aligned\n"
      ],
      "metadata": {
        "id": "zw8c4d5krhu4"
      },
      "execution_count": 38,
      "outputs": []
    },
    {
      "cell_type": "markdown",
      "source": [
        "## Split Data"
      ],
      "metadata": {
        "id": "bisVmYFLu_n1"
      }
    },
    {
      "cell_type": "code",
      "source": [
        "def generate_backtest_splits(\n",
        "    y: pd.Series,\n",
        "    strategy: str = \"sliding\",\n",
        "    window_length: int = 52,\n",
        "    step_length: int = 1\n",
        ") -> Generator[Tuple[pd.Index, pd.Index], None, None]:\n",
        "    \"\"\"\n",
        "    One-step-ahead backtest splits for replication.\n",
        "\n",
        "    At each fold:\n",
        "      - Train on `window_length` points (or all past for expanding)\n",
        "      - Test on the single point immediately after that window (t+1)\n",
        "\n",
        "    Parameters\n",
        "    ----------\n",
        "    y : pd.Series\n",
        "        Target series (index only used for length).\n",
        "    strategy : {'sliding', 'expanding'}\n",
        "        'sliding'   → fixed-size rolling window of length `window_length`.\n",
        "        'expanding' → growing window that starts at size `window_length` and then increases.\n",
        "    window_length : int\n",
        "        For 'sliding': # samples in each train window.\n",
        "        For 'expanding': # samples in initial train window.\n",
        "    step_length : int\n",
        "        How many periods to move forward between fits.\n",
        "\n",
        "    Yields\n",
        "    ------\n",
        "    train_idx : np.ndarray\n",
        "        Integer positions for training (length = window_length or growing).\n",
        "    test_idx : np.ndarray\n",
        "        Single-element array containing the one-step-ahead index.\n",
        "    \"\"\"\n",
        "    # always one-step ahead\n",
        "    fh = [1]\n",
        "    if strategy == \"sliding\":\n",
        "        splitter = SlidingWindowSplitter(\n",
        "            window_length=window_length,\n",
        "            step_length=step_length,\n",
        "            fh=fh\n",
        "        )\n",
        "    elif strategy == \"expanding\":\n",
        "        splitter = ExpandingWindowSplitter(\n",
        "            initial_window=window_length,\n",
        "            step_length=step_length,\n",
        "            fh=fh\n",
        "        )\n",
        "    else:\n",
        "        raise ValueError(f\"Unknown strategy '{strategy}'\")\n",
        "\n",
        "    for train_idx, test_idx in splitter.split(y):\n",
        "        yield train_idx, test_idx\n"
      ],
      "metadata": {
        "id": "5L-nTblZ1j5t"
      },
      "execution_count": 20,
      "outputs": []
    },
    {
      "cell_type": "markdown",
      "source": [
        "## Simulate Backtest"
      ],
      "metadata": {
        "id": "xXrMC4iene2V"
      }
    },
    {
      "cell_type": "code",
      "source": [
        "def compute_step_metrics(y_true: float, y_pred: float) -> dict:\n",
        "    \"\"\"Compute per-step metrics.\"\"\"\n",
        "    error = y_true - y_pred\n",
        "    return {\n",
        "        'error': error,\n",
        "        'abs_error': abs(error),\n",
        "    }\n",
        "\n",
        "def compute_aggregate_metrics(target_series: pd.Series, replica_series: pd.Series) -> dict:\n",
        "    \"\"\"Compute aggregate backtest metrics.\"\"\"\n",
        "    tracking_error = (target_series - replica_series).std()\n",
        "    #mse = mean_squared_error(target_series, replica_series)\n",
        "    #r2 = r2_score(target_series, replica_series)\n",
        "    var99 = -np.percentile(target_series - replica_series, 1)\n",
        "    # Annualized Sharpe (weekly data -> *sqrt(52))\n",
        "    excess = replica_series - target_series\n",
        "    sharpe = (excess.mean() * 52) / (excess.std() * np.sqrt(52)) if excess.std() > 0 else np.nan\n",
        "    return {\n",
        "        #'mse': mse,\n",
        "        #'r2': r2,\n",
        "        'tracking_error': tracking_error,\n",
        "        'var99': var99,\n",
        "        'sharpe_excess': sharpe\n",
        "    }\n",
        "\n",
        "def simulate_backtest(\n",
        "    X: pd.DataFrame,\n",
        "    y: pd.Series,\n",
        "    splitter,\n",
        "    build_model,\n",
        "    model_params: dict,\n",
        "    constraint_funcs: list = None\n",
        ") -> dict:\n",
        "    \"\"\"\n",
        "    Simulate a one-step-ahead replication backtest with weight unscaling and metrics.\n",
        "\n",
        "    Returns dict with:\n",
        "      - weights_history: (n_periods, n_assets)\n",
        "      - scale_history:   list of scale_ arrays from scaler\n",
        "      - step_metrics:   list of per-step metric dicts\n",
        "      - replica_returns, target_returns: pd.Series\n",
        "      - metrics:        aggregate metrics dict\n",
        "    \"\"\"\n",
        "    weights_history = []\n",
        "    scale_history = []\n",
        "    step_metrics = []\n",
        "    replica_returns = []\n",
        "    target_returns = []\n",
        "    dates = []\n",
        "\n",
        "    for train_idx, test_idx in splitter:\n",
        "        # Prepare data\n",
        "        X_train, y_train = X.iloc[train_idx], y.iloc[train_idx]\n",
        "        X_next = X.iloc[test_idx].values.flatten()\n",
        "        y_next = y.iloc[test_idx].iloc[0]\n",
        "        date_next = y.index[test_idx][0]\n",
        "\n",
        "        # Build and fit model pipeline\n",
        "        model = build_model(**model_params)\n",
        "        model.fit(X_train, y_train)\n",
        "\n",
        "        # Extract scaler and regressor\n",
        "        scaler = model.named_steps.get('scaler', None)\n",
        "        reg = model.named_steps['regressor']\n",
        "        w_scaled = reg.coef_.copy()\n",
        "\n",
        "        # Unscale weights if scaler present\n",
        "        if scaler is not None and hasattr(scaler, 'scale_'):\n",
        "            scale = scaler.scale_.copy()\n",
        "            w_orig = w_scaled / scale\n",
        "        else:\n",
        "            scale = np.ones_like(w_scaled)\n",
        "            w_orig = w_scaled.copy()\n",
        "\n",
        "        # Apply constraints\n",
        "        if constraint_funcs:\n",
        "            for fn in constraint_funcs:\n",
        "                w_orig = fn(w_orig, weights_history, replica_returns)\n",
        "\n",
        "        # Compute returns and metrics\n",
        "        r_rep = float(np.dot(X_next, w_orig))\n",
        "        step_m = compute_step_metrics(y_next, r_rep)\n",
        "\n",
        "        # Record\n",
        "        weights_history.append(w_orig)\n",
        "        scale_history.append(scale)\n",
        "        step_metrics.append(step_m)\n",
        "        replica_returns.append(r_rep)\n",
        "        target_returns.append(y_next)\n",
        "        dates.append(date_next)\n",
        "\n",
        "    # Assemble time series\n",
        "    weights_array = np.vstack(weights_history)\n",
        "    replica_series = pd.Series(replica_returns, index=dates, name='replica_return')\n",
        "    target_series = pd.Series(target_returns, index=dates, name='target_return')\n",
        "\n",
        "    # Aggregate metrics\n",
        "    agg_metrics = compute_aggregate_metrics(target_series, replica_series)\n",
        "\n",
        "    return {\n",
        "        'weights_history': weights_array,\n",
        "        'scale_history': scale_history,\n",
        "        'step_metrics': step_metrics,\n",
        "        'replica_returns': replica_series,\n",
        "        'target_returns': target_series,\n",
        "        'aggregate_metrics': agg_metrics\n",
        "    }\n"
      ],
      "metadata": {
        "id": "4UzQ4nxMxqd6"
      },
      "execution_count": 25,
      "outputs": []
    },
    {
      "cell_type": "markdown",
      "source": [
        "# 🧩 Prepare Dataset"
      ],
      "metadata": {
        "id": "DCj_pgaBdBzU"
      }
    },
    {
      "cell_type": "code",
      "source": [
        "# Load dataset & retrieve X, y\n",
        "indices_filepath = data_processed_path + \"indices.parquet\"\n",
        "futures_filepath = data_processed_path + \"futures_cleaned_imp_LLL1.parquet\"\n",
        "\n",
        "df_indeces = pd.read_parquet(indices_filepath)\n",
        "df_futures = pd.read_parquet(futures_filepath)\n",
        "\n",
        "index_weights = {\n",
        "    'HFRXGL': 0.50,\n",
        "    'MXWO':   0.25,\n",
        "    'MXWD':   0.,\n",
        "    'LEGATRUU': 0.25\n",
        "}\n",
        "\n",
        "X, y = prepare_X_y(df_indeces, df_futures)\n"
      ],
      "metadata": {
        "id": "4DmBiIJudFxH"
      },
      "execution_count": 39,
      "outputs": []
    },
    {
      "cell_type": "code",
      "source": [
        "#TODO: Visualize the monster index and its relations with the futures"
      ],
      "metadata": {
        "id": "ModbOfDHs1sG"
      },
      "execution_count": 16,
      "outputs": []
    },
    {
      "cell_type": "markdown",
      "source": [
        "# 🧠 Train Model"
      ],
      "metadata": {
        "id": "hR4avnwWmVFJ"
      }
    },
    {
      "cell_type": "code",
      "source": [
        "from sklearn.preprocessing import StandardScaler\n",
        "from sklearn.linear_model import Ridge, ElasticNet\n",
        "from sklearn.pipeline import Pipeline\n",
        "\n",
        "# Choose a simple build_model factory\n",
        "def build_model(alpha=0.01, l1_ratio=0.0):\n",
        "    return Pipeline([\n",
        "        (\"scaler\", StandardScaler()),\n",
        "        (\"regressor\", ElasticNet(alpha=alpha, l1_ratio=l1_ratio))\n",
        "    ])\n",
        "\n",
        "# Pick a splitter: sliding window, 52-week lookback, rebalance monthly (step=4)\n",
        "window, step =156, 1\n",
        "splits = generate_backtest_splits(y, strategy=\"sliding\", window_length=window, step_length=step)\n",
        "\n",
        "# Run the backtest simulation\n",
        "result = simulate_backtest(\n",
        "    X, y,\n",
        "    splitter=splits,\n",
        "    build_model=build_model,\n",
        "    model_params={\"alpha\": 0.010, \"l1_ratio\": 0.0},\n",
        "    constraint_funcs=None\n",
        ")\n",
        "\n",
        "# Inspect the outputs\n",
        "print(\"Aggregate metrics:\\n\", result[\"aggregate_metrics\"])\n",
        "print(\"\\nFirst 5 replica vs target returns:\")\n",
        "print(pd.concat([result[\"target_returns\"], result[\"replica_returns\"]], axis=1).head())\n",
        "\n",
        "# Plot cumulative returns to see how the replica tracks\n",
        "import matplotlib.pyplot as plt\n",
        "cum_target  = (1 + result[\"target_returns\"]).cumprod()\n",
        "cum_replica = (1 + result[\"replica_returns\"]).cumprod()\n",
        "\n",
        "plt.plot(cum_target, label=\"Target Index\")\n",
        "plt.plot(cum_replica, label=\"Replica Portfolio\")\n",
        "plt.title(\"Cumulative Returns — Smoke Test\")\n",
        "plt.legend()\n",
        "plt.tight_layout()\n",
        "plt.show()\n"
      ],
      "metadata": {
        "colab": {
          "base_uri": "https://localhost:8080/",
          "height": 775
        },
        "id": "SOZNVRpZmY8I",
        "outputId": "f67bea4e-c576-476f-dbd0-11f93e2386df"
      },
      "execution_count": 48,
      "outputs": [
        {
          "output_type": "stream",
          "name": "stdout",
          "text": [
            "Aggregate metrics:\n",
            " {'tracking_error': 0.003312512917631093, 'var99': np.float64(0.007847020717852732), 'sharpe_excess': np.float64(-0.014730641994434652)}\n",
            "\n",
            "First 5 replica vs target returns:\n",
            "            target_return  replica_return\n",
            "2010-10-26          0.006           0.003\n",
            "2010-11-02          0.006           0.005\n",
            "2010-11-09          0.011           0.013\n",
            "2010-11-16         -0.025          -0.022\n",
            "2010-11-23         -0.002           0.004\n"
          ]
        },
        {
          "output_type": "display_data",
          "data": {
            "text/plain": [
              "<Figure size 1200x600 with 1 Axes>"
            ],
            "image/png": "[encoded data removed]"
          },
          "metadata": {}
        }
      ]
    },
    {
      "cell_type": "markdown",
      "source": [
        "# PUSH"
      ],
      "metadata": {
        "id": "dlJaNuXjr0Pd"
      }
    },
    {
      "cell_type": "code",
      "source": [
        "!git config --global user.email \"jacoporaffaeli@gmail.com\"\n",
        "!git config --global user.name \"jacopo-raffaeli\""
      ],
      "metadata": {
        "id": "cwXuXNZKwm6Z"
      },
      "execution_count": null,
      "outputs": []
    },
    {
      "cell_type": "code",
      "source": [
        "from getpass import getpass\n",
        "import os\n",
        "\n",
        "# 1. Get your GitHub Personal Access Token securely\n",
        "token = getpass(\"Paste your GitHub Personal Access Token: \")\n",
        "os.environ['GITHUB_TOKEN'] = token\n",
        "\n",
        "# 2. Set your GitHub repo details\n",
        "GITHUB_USERNAME = \"jacopo-raffaeli\"\n",
        "REPO_NAME = \"portfolio-replica\"\n",
        "BRANCH = \"main\"\n",
        "\n",
        "# 3. Construct remote URL with token embedded (hidden from output)\n",
        "remote_url = f\"https://{token}@github.com/{GITHUB_USERNAME}/{REPO_NAME}.git\"\n",
        "\n",
        "# 4. Set git user info (if not done already)\n",
        "!git config --global user.email \"jacoporaffaeli@gmail.com\"\n",
        "!git config --global user.name \"jacopo-raffaeli\"\n",
        "\n",
        "# 5. Change remote origin URL to token-embedded one\n",
        "!git remote set-url origin {remote_url}\n"
      ],
      "metadata": {
        "id": "5mN7GvtVu3Kx",
        "outputId": "55434ae5-057b-4ffe-dfa3-eaab41e720c7",
        "colab": {
          "base_uri": "https://localhost:8080/"
        }
      },
      "execution_count": null,
      "outputs": [
        {
          "name": "stdout",
          "output_type": "stream",
          "text": [
            "Paste your GitHub Personal Access Token: ··········\n"
          ]
        }
      ]
    },
    {
      "cell_type": "code",
      "source": [
        "# 6. Add and commit changes (customize your commit message)\n",
        "!git add .\n",
        "!git commit -m \"feat: Add Initial EDA\" || echo \"No changes to commit.\"\n",
        "\n",
        "# 7. Push to GitHub\n",
        "!git push origin {BRANCH}"
      ],
      "metadata": {
        "id": "Cr23drSAwENv",
        "outputId": "b8b9934d-1142-491d-a2ae-7dc62636602f",
        "colab": {
          "base_uri": "https://localhost:8080/"
        }
      },
      "execution_count": null,
      "outputs": [
        {
          "output_type": "stream",
          "name": "stdout",
          "text": [
            "On branch main\n",
            "Your branch is up to date with 'origin/main'.\n",
            "\n",
            "nothing to commit, working tree clean\n",
            "No changes to commit.\n",
            "Everything up-to-date\n"
          ]
        }
      ]
    },
    {
      "cell_type": "code",
      "source": [
        "# Show git status, which files are changed and staged\n",
        "!git status\n",
        "\n",
        "# Show last commit files changed (to check if notebook was included)\n",
        "!git show --name-only --oneline -1\n",
        "\n",
        "# Show current branch\n",
        "!git branch"
      ],
      "metadata": {
        "id": "RgsoqJNs6-57",
        "outputId": "bf0de325-d174-49e3-8ca1-1473de76289f",
        "colab": {
          "base_uri": "https://localhost:8080/"
        }
      },
      "execution_count": null,
      "outputs": [
        {
          "output_type": "stream",
          "name": "stdout",
          "text": [
            "On branch main\n",
            "Your branch is up to date with 'origin/main'.\n",
            "\n",
            "nothing to commit, working tree clean\n",
            "\u001b[33mf00faf2\u001b[m\u001b[33m (\u001b[m\u001b[1;36mHEAD -> \u001b[m\u001b[1;32mmain\u001b[m\u001b[33m, \u001b[m\u001b[1;31morigin/main\u001b[m\u001b[33m, \u001b[m\u001b[1;31morigin/HEAD\u001b[m\u001b[33m)\u001b[m Created using Colab\n",
            "notebooks/01_Exploratory_Data_Analysis.ipynb\n",
            "* \u001b[32mmain\u001b[m\n"
          ]
        }
      ]
    }
  ]
}